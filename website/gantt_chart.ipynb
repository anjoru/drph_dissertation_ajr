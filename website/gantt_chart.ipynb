{
 "cells": [
  {
   "cell_type": "code",
   "execution_count": 4,
   "id": "ba177292-1c54-4309-93f2-c9b15c5b3b18",
   "metadata": {},
   "outputs": [
    {
     "name": "stdout",
     "output_type": "stream",
     "text": [
      "Gantt chart saved to /Users/andrewruiz/drph_dissertation_ajr/website/docs/gantt_chart.html\n"
     ]
    }
   ],
   "source": [
    "import os\n",
    "import pandas as pd\n",
    "import plotly.express as px\n",
    "\n",
    "# Define the tasks and timelines\n",
    "data = {\n",
    "    \"Task\": [\n",
    "        \"Literature Review\",\n",
    "        \"Data Wrangling\",\n",
    "        \"Exploratory Data Analysis\",\n",
    "        \"Proposal Preparation\",\n",
    "        \"Model Development\",\n",
    "        \"Analysis\",\n",
    "        \"Dissertation Writing\"\n",
    "    ],\n",
    "    \"Start\": [\n",
    "        \"2025-01-06\",  # Spring 25\n",
    "        \"2025-01-10\",  # Spring 25\n",
    "        \"2025-01-15\",  # Spring 25\n",
    "        \"2025-03-01\",  # Spring 25\n",
    "        \"2025-05-01\",  # Summer 25\n",
    "        \"2025-08-01\",  # Fall 25\n",
    "        \"2025-12-25\"   # Spring 26\n",
    "    ],\n",
    "    \"End\": [\n",
    "        \"2025-02-06\",  # Spring 25\n",
    "        \"2025-02-28\",  # Spring 25\n",
    "        \"2025-03-31\",  # Spring 25\n",
    "        \"2025-04-30\",  # Spring 25\n",
    "        \"2025-08-15\",  # Summer 25\n",
    "        \"2025-12-25\",  # Fall 25\n",
    "        \"2026-03-20\"   # Spring 26\n",
    "    ],\n",
    "    \"Semester\": [\n",
    "        \"Spring 25\",   # Literature Review\n",
    "        \"Spring 25\",   # Data Wrangling\n",
    "        \"Spring 25\",   # Exploratory Data Analysis\n",
    "        \"Spring 25\",   # Proposal Preparation\n",
    "        \"Summer 25\",   # Model Development\n",
    "        \"Fall 25\",     # Analysis\n",
    "        \"Spring 26\"    # Dissertation Writing\n",
    "    ]\n",
    "}\n",
    "\n",
    "# Convert to DataFrame\n",
    "df = pd.DataFrame(data)\n",
    "\n",
    "# Explicitly define task order\n",
    "task_order = [\n",
    "    \"Literature Review\",\n",
    "    \"Data Wrangling\",\n",
    "    \"Exploratory Data Analysis\",\n",
    "    \"Proposal Preparation\",\n",
    "    \"Model Development\",\n",
    "    \"Analysis\",\n",
    "    \"Dissertation Writing\"\n",
    "]\n",
    "\n",
    "df[\"Task\"] = pd.Categorical(df[\"Task\"], categories=task_order, ordered=True)\n",
    "\n",
    "# Create Gantt chart\n",
    "fig = px.timeline(\n",
    "    df,\n",
    "    x_start=\"Start\",\n",
    "    x_end=\"End\",\n",
    "    y=\"Task\",\n",
    "    color=\"Semester\",\n",
    "    title=\"Dissertation Progress Gantt Chart\",\n",
    "    labels={\"Semester\": \"Semester\"}\n",
    ")\n",
    "\n",
    "# Ensure the earliest tasks appear at the top\n",
    "fig.update_yaxes(\n",
    "    categoryorder=\"array\",\n",
    "    categoryarray=task_order,\n",
    "    title=\"Tasks\",\n",
    "    autorange=\"reversed\"\n",
    ")\n",
    "\n",
    "# Move legend below the chart in a single horizontal line\n",
    "fig.update_layout(\n",
    "    legend=dict(\n",
    "        orientation=\"h\",\n",
    "        yanchor=\"top\",\n",
    "        y=-0.2,  # Adjust to move the legend down\n",
    "        xanchor=\"center\",\n",
    "        x=0.5\n",
    "    )\n",
    ")\n",
    "\n",
    "# Define output directory and create it if it doesn't exist\n",
    "output_dir = \"/Users/andrewruiz/drph_dissertation_ajr/website/docs\"\n",
    "os.makedirs(output_dir, exist_ok=True)\n",
    "\n",
    "# Save chart as an HTML file\n",
    "output_file = os.path.join(output_dir, \"gantt_chart.html\")\n",
    "fig.write_html(output_file)\n",
    "\n",
    "print(f\"Gantt chart saved to {output_file}\")\n"
   ]
  },
  {
   "cell_type": "code",
   "execution_count": 5,
   "id": "fbe3e40e-ea6e-4d61-a79e-186bf9dbf6d6",
   "metadata": {},
   "outputs": [
    {
     "name": "stdout",
     "output_type": "stream",
     "text": [
      "Gantt chart saved to /Users/andrewruiz/drph_dissertation_ajr/website/docs/gantt_chart.html\n"
     ]
    }
   ],
   "source": [
    "import os\n",
    "output_dir = \"/Users/andrewruiz/drph_dissertation_ajr/website/docs\"\n",
    "os.makedirs(output_dir, exist_ok=True)\n",
    "output_file = os.path.join(output_dir, \"gantt_chart.html\")\n",
    "fig.write_html(output_file)\n",
    "print(f\"Gantt chart saved to {output_file}\")\n"
   ]
  },
  {
   "cell_type": "code",
   "execution_count": null,
   "id": "db31bb73-c738-4c95-a5ad-5cd6b83e4564",
   "metadata": {},
   "outputs": [],
   "source": []
  }
 ],
 "metadata": {
  "kernelspec": {
   "display_name": "Python 3 (ipykernel)",
   "language": "python",
   "name": "python3"
  },
  "language_info": {
   "codemirror_mode": {
    "name": "ipython",
    "version": 3
   },
   "file_extension": ".py",
   "mimetype": "text/x-python",
   "name": "python",
   "nbconvert_exporter": "python",
   "pygments_lexer": "ipython3",
   "version": "3.13.1"
  }
 },
 "nbformat": 4,
 "nbformat_minor": 5
}
