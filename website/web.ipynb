{
 "cells": [
  {
   "cell_type": "code",
   "execution_count": 1,
   "id": "53b49b2b-6ee5-4f40-81c4-e51a363cbe7a",
   "metadata": {},
   "outputs": [
    {
     "name": "stdout",
     "output_type": "stream",
     "text": [
      "Project directory set to: /Users/andrewruiz/drph_dissertation_ajr\n"
     ]
    }
   ],
   "source": [
    "import os\n",
    "\n",
    "# Set the project directory to your repository path\n",
    "project_dir = \"/Users/andrewruiz/drph_dissertation_ajr\"\n",
    "os.makedirs(project_dir, exist_ok=True)\n",
    "print(f\"Project directory set to: {project_dir}\")\n"
   ]
  },
  {
   "cell_type": "code",
   "execution_count": 2,
   "id": "725397a9-cb15-4e68-a5cc-33812cb5b8f5",
   "metadata": {},
   "outputs": [
    {
     "name": "stdout",
     "output_type": "stream",
     "text": [
      "All website files have been created.\n"
     ]
    }
   ],
   "source": [
    "# Define the files and their content\n",
    "files = {\n",
    "    \"_quarto.yml\": \"\"\"\n",
    "project:\n",
    "  type: website\n",
    "  output-dir: docs\n",
    "\n",
    "website:\n",
    "  title: \"Andrew Ruiz Dissertation Project\"\n",
    "  navbar:\n",
    "    left:\n",
    "      - text: \"About\"\n",
    "        file: about.qmd\n",
    "      - text: \"Objectives\"\n",
    "        file: objectives.qmd\n",
    "      - text: \"Methods\"\n",
    "        file: methods.qmd\n",
    "      - text: \"Data Sources\"\n",
    "        file: data.qmd\n",
    "      - text: \"Results\"\n",
    "        file: results.qmd\n",
    "      - text: \"Discussion\"\n",
    "        file: discussion.qmd\n",
    "    right:\n",
    "      - icon: github\n",
    "        href: https://github.com/anjoru/drph_dissertation_ajr.git\n",
    "\n",
    "format:\n",
    "  html:\n",
    "    theme: cosmo\n",
    "    highlight: zenburn\n",
    "    css: styles.css\n",
    "    toc: true\n",
    "\"\"\",\n",
    "    \"about.qmd\": \"\"\"\n",
    "---\n",
    "title: \"About\"\n",
    "---\n",
    "\n",
    "# About This Project\n",
    "\n",
    "This project focuses on creating an AI framework for restaurant food safety in Boston, Massachusetts. It aims to predict food safety violations and prevent foodborne illness through advanced AI techniques and integrated data streams.\n",
    "\"\"\",\n",
    "    \"objectives.qmd\": \"\"\"\n",
    "---\n",
    "title: \"Objectives\"\n",
    "---\n",
    "\n",
    "# Objectives\n",
    "\n",
    "## Main Goals:\n",
    "1. Develop AI-powered tools to predict food safety violations.\n",
    "2. Integrate multiple data streams (e.g., inspections, environmental data).\n",
    "3. Prevent foodborne illness through proactive interventions.\n",
    "\"\"\",\n",
    "    \"methods.qmd\": \"\"\"\n",
    "---\n",
    "title: \"Methods\"\n",
    "---\n",
    "\n",
    "# Methods\n",
    "\n",
    "## AI Models and Tools\n",
    "- **Cascading Failure Modeling**: Simulates interconnected risks, such as heatwaves impacting refrigeration.\n",
    "- **Geospatial Clustering**: Identifies hotspots for violations.\n",
    "- **Explainable AI (XAI)**: Ensures transparency in risk prediction.\n",
    "\n",
    "## Microsimulation\n",
    "- Modeled heat-related illness and death.\n",
    "- Evaluated the cost-effectiveness of interventions like cooling centers.\n",
    "\"\"\",\n",
    "    \"data.qmd\": \"\"\"\n",
    "---\n",
    "title: \"Data Sources\"\n",
    "---\n",
    "\n",
    "# Data Sources\n",
    "\n",
    "The framework uses diverse data streams to capture food safety risks:\n",
    "\n",
    "1. **Inspection Records**: Boston Food Establishment Database (2006–Present).\n",
    "2. **Environmental Data**: Weather, power outages, and urban heat island effects.\n",
    "3. **Citizen Reports**: Boston 311 logs on sanitation and pest complaints.\n",
    "4. **Business Characteristics**: Details like operating hours and price range.\n",
    "5. **Socioeconomic Data**: To assess vulnerabilities and disparities.\n",
    "\"\"\",\n",
    "    \"results.qmd\": \"\"\"\n",
    "---\n",
    "title: \"Results\"\n",
    "---\n",
    "\n",
    "# Results\n",
    "\n",
    "## Key Findings:\n",
    "1. AI tools achieved X% accuracy in predicting food safety violations.\n",
    "2. Integration of weather data improved risk modeling.\n",
    "3. Cooling centers reduced heat-related deaths by X%.\n",
    "\"\"\",\n",
    "    \"discussion.qmd\": \"\"\"\n",
    "---\n",
    "title: \"Discussion\"\n",
    "---\n",
    "\n",
    "# Discussion\n",
    "\n",
    "## Implications\n",
    "- The framework represents a paradigm shift in food safety management, moving from reactive to proactive strategies.\n",
    "- Insights help policymakers allocate resources effectively and equitably.\n",
    "\n",
    "## Future Work\n",
    "- Expand to other cities and jurisdictions.\n",
    "- Explore additional data sources for improved predictions.\n",
    "\"\"\",\n",
    "    \"styles.css\": \"\"\"\n",
    "body {\n",
    "  font-family: 'Arial', sans-serif;\n",
    "}\n",
    "h1, h2 {\n",
    "  color: #2c3e50;\n",
    "}\n",
    "a {\n",
    "  color: #007bff;\n",
    "}\n",
    "\"\"\"\n",
    "}\n",
    "\n",
    "# Write each file to the project directory\n",
    "for filename, content in files.items():\n",
    "    file_path = os.path.join(project_dir, filename)\n",
    "    with open(file_path, \"w\") as file:\n",
    "        file.write(content)\n",
    "\n",
    "print(\"All website files have been created.\")\n"
   ]
  },
  {
   "cell_type": "code",
   "execution_count": 3,
   "id": "34d15739-c3c0-4569-adf0-e922e551b64f",
   "metadata": {},
   "outputs": [
    {
     "name": "stdout",
     "output_type": "stream",
     "text": [
      "[ 1/15] discussion.qmd\u001b[39m\u001b[22m\n",
      "[ 2/15] website/gantt_chart.ipynb\u001b[39m\u001b[22m\n",
      "[ 3/15] website/discussion.qmd\u001b[39m\u001b[22m\n",
      "[ 4/15] website/web.ipynb\u001b[39m\u001b[22m\n",
      "[ 5/15] website/results.qmd\u001b[39m\u001b[22m\n",
      "[ 6/15] website/objectives.qmd\u001b[39m\u001b[22m\n",
      "[ 7/15] website/index.qmd\u001b[39m\u001b[22m\n",
      "[ 8/15] website/about.qmd\u001b[39m\u001b[22m\n",
      "[ 9/15] website/methods.qmd\u001b[39m\u001b[22m\n",
      "[10/15] website/data.qmd\u001b[39m\u001b[22m\n",
      "[11/15] results.qmd\u001b[39m\u001b[22m\n",
      "[12/15] objectives.qmd\u001b[39m\u001b[22m\n",
      "[13/15] about.qmd\u001b[39m\u001b[22m\n",
      "[14/15] methods.qmd\u001b[39m\u001b[22m\n",
      "[15/15] data.qmd\u001b[39m\u001b[22m\n",
      "\n",
      "Output created: docs/data.html\n",
      "\n"
     ]
    }
   ],
   "source": [
    "!quarto render\n"
   ]
  },
  {
   "cell_type": "code",
   "execution_count": 4,
   "id": "1a487f8b-6a07-4026-85f5-b110a79c4e7c",
   "metadata": {},
   "outputs": [
    {
     "name": "stdout",
     "output_type": "stream",
     "text": [
      "about.html      index.html      results.html    styles.css\n",
      "data.html       methods.html    search.json     \u001b[34mwebsite\u001b[m\u001b[m\n",
      "discussion.html objectives.html \u001b[34msite_libs\u001b[m\u001b[m\n"
     ]
    }
   ],
   "source": [
    "!ls /Users/andrewruiz/drph_dissertation_ajr/docs\n"
   ]
  },
  {
   "cell_type": "code",
   "execution_count": 5,
   "id": "d77d6374-aafb-4941-a2f4-1b4b59715651",
   "metadata": {},
   "outputs": [
    {
     "name": "stdout",
     "output_type": "stream",
     "text": [
      "[main a01e7ba] Add multi-page website structure\n",
      " 24 files changed, 5966 insertions(+), 678 deletions(-)\n",
      " create mode 100644 _quarto.yml\n",
      " create mode 100644 about.qmd\n",
      " create mode 100644 data.qmd\n",
      " create mode 100644 discussion.qmd\n",
      " create mode 100644 docs/website/about.html\n",
      " create mode 100644 docs/website/data.html\n",
      " create mode 100644 docs/website/discussion.html\n",
      " create mode 100644 docs/website/gantt_chart.html\n",
      " create mode 100644 docs/website/index.html\n",
      " create mode 100644 docs/website/methods.html\n",
      " create mode 100644 docs/website/objectives.html\n",
      " rename docs/{web.html => website/results.html} (86%)\n",
      " create mode 100644 docs/website/web.html\n",
      " create mode 100644 methods.qmd\n",
      " create mode 100644 objectives.qmd\n",
      " create mode 100644 results.qmd\n",
      " create mode 100644 styles.css\n",
      "fatal: unable to access 'https://github.com/anjoru/drph_dissertation_ajr.git/': SSL certificate problem: self signed certificate\n"
     ]
    }
   ],
   "source": [
    "!git add .\n",
    "!git commit -m \"Add multi-page website structure\"\n",
    "!git push origin main\n"
   ]
  },
  {
   "cell_type": "code",
   "execution_count": null,
   "id": "abb8cc70-c843-4359-a7d9-f32df5ed6948",
   "metadata": {},
   "outputs": [],
   "source": []
  }
 ],
 "metadata": {
  "kernelspec": {
   "display_name": "Python 3 (ipykernel)",
   "language": "python",
   "name": "python3"
  },
  "language_info": {
   "codemirror_mode": {
    "name": "ipython",
    "version": 3
   },
   "file_extension": ".py",
   "mimetype": "text/x-python",
   "name": "python",
   "nbconvert_exporter": "python",
   "pygments_lexer": "ipython3",
   "version": "3.13.1"
  }
 },
 "nbformat": 4,
 "nbformat_minor": 5
}
